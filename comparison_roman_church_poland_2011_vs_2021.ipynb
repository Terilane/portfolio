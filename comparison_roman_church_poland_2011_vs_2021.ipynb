{
 "cells": [
  {
   "cell_type": "markdown",
   "id": "11371740",
   "metadata": {},
   "source": [
    "# Comparison of the Population Identifying with the Roman Catholic Church in Poland for 2011 and 2021\n",
    "\n",
    "In this simple analysis, I compared the percentage of the Polish population that identified with the Roman Catholic Church in the years 2011 and 2021. The data sources for this analysis are from the Central Statistical Office, specifically from the general censuses conducted in 2011 and 2021.\n",
    "\n",
    "## Data Sources:\n",
    "- [2011 Census Data from the Central Statistical Office](https://stat.gov.pl/spisy-powszechne/nsp-2011/nsp-2011-wyniki/wybrane-tablice-dotyczace-przynaleznosci-narodowo-etnicznej-jezyka-i-wyznania-nsp-2011,8,1.html?fbclid=IwAR33YCl37wTwbH2nQSnhMgcquVCgUxF0votdG7a1mufdJbXqP3erY_0Hod0)\n",
    "- [2021 Census Data from the Central Statistical Office](https://stat.gov.pl/spisy-powszechne/nsp-2021/nsp-2021-wyniki-ostateczne/tablice-z-ostatecznymi-danymi-w-zakresie-przynaleznosci-narodowo-etnicznej-jezyka-uzywanego-w-domu-oraz-przynaleznosci-do-wyznania-religijnego,10,1.html?fbclid=IwAR1lQUPvLAQKkTsuZNf0W7Qk787kRvxtDg5rBOpuyfD1_Nuz-7851mzYSy8)\n"
   ]
  },
  {
   "cell_type": "code",
   "execution_count": 1,
   "id": "353e3d64",
   "metadata": {},
   "outputs": [
    {
     "name": "stdout",
     "output_type": "stream",
     "text": [
      "Requirement already satisfied: xlrd in c:\\users\\kempa\\anaconda3\\lib\\site-packages (2.0.1)\n",
      "Note: you may need to restart the kernel to use updated packages.\n"
     ]
    }
   ],
   "source": [
    "pip install xlrd"
   ]
  },
  {
   "cell_type": "code",
   "execution_count": 2,
   "id": "ba0a11f2",
   "metadata": {},
   "outputs": [],
   "source": [
    "# Step 1: Importing necessary libraries\n",
    "import pandas as pd\n",
    "import matplotlib.pyplot as plt"
   ]
  },
  {
   "cell_type": "code",
   "execution_count": 3,
   "id": "76ea6259",
   "metadata": {},
   "outputs": [
    {
     "data": {
      "text/html": [
       "<div>\n",
       "<style scoped>\n",
       "    .dataframe tbody tr th:only-of-type {\n",
       "        vertical-align: middle;\n",
       "    }\n",
       "\n",
       "    .dataframe tbody tr th {\n",
       "        vertical-align: top;\n",
       "    }\n",
       "\n",
       "    .dataframe thead th {\n",
       "        text-align: right;\n",
       "    }\n",
       "</style>\n",
       "<table border=\"1\" class=\"dataframe\">\n",
       "  <thead>\n",
       "    <tr style=\"text-align: right;\">\n",
       "      <th></th>\n",
       "      <th>Ogółem</th>\n",
       "      <th>38511824</th>\n",
       "      <th>100</th>\n",
       "      <th>x</th>\n",
       "    </tr>\n",
       "  </thead>\n",
       "  <tbody>\n",
       "    <tr>\n",
       "      <th>0</th>\n",
       "      <td>Udzielajacy odpowiedzi na pytanie o wyznanie</td>\n",
       "      <td>35151372</td>\n",
       "      <td>91.27</td>\n",
       "      <td>100</td>\n",
       "    </tr>\n",
       "    <tr>\n",
       "      <th>1</th>\n",
       "      <td>należący do wyznania</td>\n",
       "      <td>34221953</td>\n",
       "      <td>88.86</td>\n",
       "      <td>97.36</td>\n",
       "    </tr>\n",
       "    <tr>\n",
       "      <th>2</th>\n",
       "      <td>Kościół Katolicki - obrządek łaciński (Kościół...</td>\n",
       "      <td>33728734</td>\n",
       "      <td>87.58</td>\n",
       "      <td>95.95</td>\n",
       "    </tr>\n",
       "    <tr>\n",
       "      <th>3</th>\n",
       "      <td>Kościół Prawosławny</td>\n",
       "      <td>156284</td>\n",
       "      <td>0.41</td>\n",
       "      <td>0.44</td>\n",
       "    </tr>\n",
       "    <tr>\n",
       "      <th>4</th>\n",
       "      <td>Związek Wyznania Świadków Jehowy</td>\n",
       "      <td>137308</td>\n",
       "      <td>0.36</td>\n",
       "      <td>0.39</td>\n",
       "    </tr>\n",
       "    <tr>\n",
       "      <th>5</th>\n",
       "      <td>Kościół Ewangelicko-Augsburski</td>\n",
       "      <td>70766</td>\n",
       "      <td>0.18</td>\n",
       "      <td>0.2</td>\n",
       "    </tr>\n",
       "  </tbody>\n",
       "</table>\n",
       "</div>"
      ],
      "text/plain": [
       "                                              Ogółem  38511824    100      x\n",
       "0       Udzielajacy odpowiedzi na pytanie o wyznanie  35151372  91.27    100\n",
       "1                               należący do wyznania  34221953  88.86  97.36\n",
       "2  Kościół Katolicki - obrządek łaciński (Kościół...  33728734  87.58  95.95\n",
       "3                                Kościół Prawosławny    156284   0.41   0.44\n",
       "4                   Związek Wyznania Świadków Jehowy    137308   0.36   0.39\n",
       "5                     Kościół Ewangelicko-Augsburski     70766   0.18    0.2"
      ]
     },
     "execution_count": 3,
     "metadata": {},
     "output_type": "execute_result"
    }
   ],
   "source": [
    "# Step 2: Loading the datasets\n",
    "dataset1_path = \"wyniki_ostateczne_nsp2021_nar_jezyk_wyznanie_29_09_202.xlsx\"\n",
    "dataset2_path = \"l_wybrane_tablice_dot_przynaleznosci_narod_etnicznej_jezyka_i_wyznania.xls\"\n",
    "\n",
    "df_2021 = pd.read_excel(dataset1_path, sheet_name=\"Tab5_Wyz\", skiprows=5)\n",
    "df_2011 = pd.read_excel(dataset2_path, sheet_name=\"Tabl. 7\", skiprows=3)\n",
    "\n",
    "\n",
    "df_2011.head(6)"
   ]
  },
  {
   "cell_type": "code",
   "execution_count": 4,
   "id": "c2cd1eb2",
   "metadata": {},
   "outputs": [
    {
     "data": {
      "text/html": [
       "<div>\n",
       "<style scoped>\n",
       "    .dataframe tbody tr th:only-of-type {\n",
       "        vertical-align: middle;\n",
       "    }\n",
       "\n",
       "    .dataframe tbody tr th {\n",
       "        vertical-align: top;\n",
       "    }\n",
       "\n",
       "    .dataframe thead th {\n",
       "        text-align: right;\n",
       "    }\n",
       "</style>\n",
       "<table border=\"1\" class=\"dataframe\">\n",
       "  <thead>\n",
       "    <tr style=\"text-align: right;\">\n",
       "      <th></th>\n",
       "      <th>Unnamed: 0</th>\n",
       "      <th>Ogółem</th>\n",
       "      <th>Unnamed: 2</th>\n",
       "      <th>Unnamed: 3</th>\n",
       "      <th>38036118</th>\n",
       "      <th>100</th>\n",
       "      <th>x</th>\n",
       "      <th>x.1</th>\n",
       "    </tr>\n",
       "  </thead>\n",
       "  <tbody>\n",
       "    <tr>\n",
       "      <th>0</th>\n",
       "      <td>NaN</td>\n",
       "      <td>Udzielający odpowiedzi na pytanie o wyznanie</td>\n",
       "      <td>NaN</td>\n",
       "      <td>NaN</td>\n",
       "      <td>30212506</td>\n",
       "      <td>79.431098</td>\n",
       "      <td>100</td>\n",
       "      <td>x</td>\n",
       "    </tr>\n",
       "    <tr>\n",
       "      <th>1</th>\n",
       "      <td>NaN</td>\n",
       "      <td>NaN</td>\n",
       "      <td>należący do wyznania</td>\n",
       "      <td>NaN</td>\n",
       "      <td>27601000</td>\n",
       "      <td>72.565239</td>\n",
       "      <td>91.356209</td>\n",
       "      <td>100</td>\n",
       "    </tr>\n",
       "    <tr>\n",
       "      <th>2</th>\n",
       "      <td>NaN</td>\n",
       "      <td>NaN</td>\n",
       "      <td>NaN</td>\n",
       "      <td>Kościół katolicki - obrządek łaciński (Kościół...</td>\n",
       "      <td>27121331</td>\n",
       "      <td>71.304151</td>\n",
       "      <td>89.768558</td>\n",
       "      <td>98.262132</td>\n",
       "    </tr>\n",
       "    <tr>\n",
       "      <th>3</th>\n",
       "      <td>NaN</td>\n",
       "      <td>NaN</td>\n",
       "      <td>NaN</td>\n",
       "      <td>Kościół prawosławny</td>\n",
       "      <td>151648</td>\n",
       "      <td>0.398695</td>\n",
       "      <td>0.501938</td>\n",
       "      <td>0.549429</td>\n",
       "    </tr>\n",
       "    <tr>\n",
       "      <th>4</th>\n",
       "      <td>NaN</td>\n",
       "      <td>NaN</td>\n",
       "      <td>NaN</td>\n",
       "      <td>Świadkowie Jehowy</td>\n",
       "      <td>108754</td>\n",
       "      <td>0.285923</td>\n",
       "      <td>0.359964</td>\n",
       "      <td>0.394022</td>\n",
       "    </tr>\n",
       "  </tbody>\n",
       "</table>\n",
       "</div>"
      ],
      "text/plain": [
       "   Unnamed: 0                                        Ogółem  \\\n",
       "0         NaN  Udzielający odpowiedzi na pytanie o wyznanie   \n",
       "1         NaN                                           NaN   \n",
       "2         NaN                                           NaN   \n",
       "3         NaN                                           NaN   \n",
       "4         NaN                                           NaN   \n",
       "\n",
       "             Unnamed: 2                                         Unnamed: 3  \\\n",
       "0                   NaN                                                NaN   \n",
       "1  należący do wyznania                                                NaN   \n",
       "2                   NaN  Kościół katolicki - obrządek łaciński (Kościół...   \n",
       "3                   NaN                                Kościół prawosławny   \n",
       "4                   NaN                                  Świadkowie Jehowy   \n",
       "\n",
       "   38036118        100          x        x.1  \n",
       "0  30212506  79.431098        100          x  \n",
       "1  27601000  72.565239  91.356209        100  \n",
       "2  27121331  71.304151  89.768558  98.262132  \n",
       "3    151648   0.398695   0.501938   0.549429  \n",
       "4    108754   0.285923   0.359964   0.394022  "
      ]
     },
     "execution_count": 4,
     "metadata": {},
     "output_type": "execute_result"
    }
   ],
   "source": [
    "df_2021.head()"
   ]
  },
  {
   "cell_type": "code",
   "execution_count": 9,
   "id": "1923aa92",
   "metadata": {},
   "outputs": [],
   "source": [
    "# Step 3: Extracting the relevant data\n",
    "catholic_2021_percentage = df_2021.iloc[2,5].round(2)\n",
    "catholic_2011_percentage = df_2011.iloc[2,2].round(2)"
   ]
  },
  {
   "cell_type": "code",
   "execution_count": 20,
   "id": "856c8e0e",
   "metadata": {},
   "outputs": [
    {
     "data": {
      "text/plain": [
       "(71.3, 87.58)"
      ]
     },
     "execution_count": 20,
     "metadata": {},
     "output_type": "execute_result"
    }
   ],
   "source": [
    "catholic_2021_percentage, catholic_2011_percentage"
   ]
  },
  {
   "cell_type": "code",
   "execution_count": 18,
   "id": "2c0f339b",
   "metadata": {},
   "outputs": [
    {
     "data": {
      "image/png": "[encoded data removed]",
      "text/plain": [
       "<Figure size 1000x600 with 1 Axes>"
      ]
     },
     "metadata": {},
     "output_type": "display_data"
    }
   ],
   "source": [
    "# Step 4: Creating the bar chart for the comparison\n",
    "plt.figure(figsize=(10, 6))\n",
    "plt.bar([\"2011\", \"2021\"], [catholic_2011_percentage, catholic_2021_percentage], color=['black', 'pink'])\n",
    "plt.title(\"Percentage of Population Identifying with Roman Catholic Church in Poland\")\n",
    "plt.ylabel(\"Percentage (%)\")\n",
    "plt.xlabel(\"Year\")\n",
    "plt.ylim(60, 90)\n",
    "plt.grid(axis='y', linestyle='--', alpha=0.7)\n",
    "plt.tight_layout()\n",
    "plt.show()"
   ]
  },
  {
   "cell_type": "markdown",
   "id": "0e1ae0ad",
   "metadata": {},
   "source": [
    "There has been a significent decline in the proportion of the Polish population identifying with the Roman Catholic Church over the past decade. The percentage dropped from 87.58% in 2011 to 71.3% in 2021. Decrease of approximately 8 percentage points over ten years suggests that social and cultural changes are taking place in Poland."
   ]
  }
 ],
 "metadata": {
  "kernelspec": {
   "display_name": "Python 3 (ipykernel)",
   "language": "python",
   "name": "python3"
  },
  "language_info": {
   "codemirror_mode": {
    "name": "ipython",
    "version": 3
   },
   "file_extension": ".py",
   "mimetype": "text/x-python",
   "name": "python",
   "nbconvert_exporter": "python",
   "pygments_lexer": "ipython3",
   "version": "3.10.9"
  }
 },
 "nbformat": 4,
 "nbformat_minor": 5
}
