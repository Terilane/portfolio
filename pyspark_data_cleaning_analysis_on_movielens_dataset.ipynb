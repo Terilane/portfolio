{
 "cells": [
  {
   "cell_type": "markdown",
   "id": "b8b1264a",
   "metadata": {},
   "source": [
    "# PySpark Data Cleaning & Analysis on MovieLens Dataset\n",
    "\n",
    "In this project, I utilized the capabilities of PySpark to perform data cleaning and exploratory data analysis on the MovieLens 100K dataset. The primary objective was to understand the distribution of ratings, particularly focusing on the horror genre\n",
    "\n",
    "Data Sources Used:\n",
    "\n",
    "MovieLens 100K Dataset: This dataset, provided by GroupLens, comprises 100,000 ratings from 943 users on 1682 movies. It contains detailed ratings data, along with user demographics and movie metadata. Specific files used from this dataset include:\n",
    " - u.data: Contains the full dataset of user ratings.\n",
    " - u.item: Holds movie metadata, including titles and genres"
   ]
  },
  {
   "cell_type": "code",
   "execution_count": 1,
   "id": "67415cef",
   "metadata": {},
   "outputs": [],
   "source": [
    "from pyspark.sql import SparkSession\n",
    "\n",
    "# Initializing a Spark session\n",
    "spark = SparkSession.builder.appName(\"MovieLensDataCleaning\").getOrCreate()"
   ]
  },
  {
   "cell_type": "code",
   "execution_count": 2,
   "id": "b97d8974",
   "metadata": {},
   "outputs": [],
   "source": [
    "# Defining the paths to the datasets\n",
    "ratings_data_path = \"u.data\"\n",
    "movie_data_path = \"u.item\""
   ]
  },
  {
   "cell_type": "code",
   "execution_count": 3,
   "id": "c5569246",
   "metadata": {},
   "outputs": [],
   "source": [
    "# Loading the ratings dataset into a DataFrame (renaming based on documentation provided by MovieLens 100K dataset)\n",
    "ratings_df = spark.read.csv(ratings_data_path, sep=\"\\t\", header=False)\n",
    "ratings_df = ratings_df.withColumnRenamed(\"_c0\", \"user_id\") \\\n",
    "                       .withColumnRenamed(\"_c1\", \"movie_id\") \\\n",
    "                       .withColumnRenamed(\"_c2\", \"rating\") \\\n",
    "                       .withColumnRenamed(\"_c3\", \"timestamp\")"
   ]
  },
  {
   "cell_type": "code",
   "execution_count": 4,
   "id": "a7bf19aa",
   "metadata": {
    "scrolled": true
   },
   "outputs": [
    {
     "name": "stdout",
     "output_type": "stream",
     "text": [
      "+-------+--------+------+---------+\n",
      "|user_id|movie_id|rating|timestamp|\n",
      "+-------+--------+------+---------+\n",
      "|    196|     242|     3|881250949|\n",
      "|    186|     302|     3|891717742|\n",
      "|     22|     377|     1|878887116|\n",
      "|    244|      51|     2|880606923|\n",
      "|    166|     346|     1|886397596|\n",
      "|    298|     474|     4|884182806|\n",
      "|    115|     265|     2|881171488|\n",
      "|    253|     465|     5|891628467|\n",
      "|    305|     451|     3|886324817|\n",
      "|      6|      86|     3|883603013|\n",
      "|     62|     257|     2|879372434|\n",
      "|    286|    1014|     5|879781125|\n",
      "|    200|     222|     5|876042340|\n",
      "|    210|      40|     3|891035994|\n",
      "|    224|      29|     3|888104457|\n",
      "|    303|     785|     3|879485318|\n",
      "|    122|     387|     5|879270459|\n",
      "|    194|     274|     2|879539794|\n",
      "|    291|    1042|     4|874834944|\n",
      "|    234|    1184|     2|892079237|\n",
      "+-------+--------+------+---------+\n",
      "only showing top 20 rows\n",
      "\n"
     ]
    }
   ],
   "source": [
    "# Displaing the first few rows\n",
    "ratings_df.show()"
   ]
  },
  {
   "cell_type": "code",
   "execution_count": 5,
   "id": "37d61f7d",
   "metadata": {},
   "outputs": [
    {
     "name": "stdout",
     "output_type": "stream",
     "text": [
      "root\n",
      " |-- user_id: string (nullable = true)\n",
      " |-- movie_id: string (nullable = true)\n",
      " |-- rating: string (nullable = true)\n",
      " |-- timestamp: string (nullable = true)\n",
      "\n"
     ]
    }
   ],
   "source": [
    "#Viewing the dataset schema\n",
    "ratings_df.printSchema()"
   ]
  },
  {
   "cell_type": "code",
   "execution_count": 6,
   "id": "34e0d4a5",
   "metadata": {},
   "outputs": [
    {
     "name": "stdout",
     "output_type": "stream",
     "text": [
      "+-------+------------------+------------------+------------------+-----------------+\n",
      "|summary|           user_id|          movie_id|            rating|        timestamp|\n",
      "+-------+------------------+------------------+------------------+-----------------+\n",
      "|  count|            100000|            100000|            100000|           100000|\n",
      "|   mean|         462.48475|         425.53013|           3.52986|8.8352885148862E8|\n",
      "| stddev|266.61442012750905|330.79835632558473|1.1256735991443214|5343856.189502848|\n",
      "|    min|                 1|                 1|                 1|        874724710|\n",
      "|    max|                99|               999|                 5|        893286638|\n",
      "+-------+------------------+------------------+------------------+-----------------+\n",
      "\n"
     ]
    }
   ],
   "source": [
    "#Extracting statistics\n",
    "ratings_df.describe().show()"
   ]
  },
  {
   "cell_type": "code",
   "execution_count": 7,
   "id": "74829ff1",
   "metadata": {},
   "outputs": [
    {
     "name": "stdout",
     "output_type": "stream",
     "text": [
      "+-------+--------+------+---------+\n",
      "|user_id|movie_id|rating|timestamp|\n",
      "+-------+--------+------+---------+\n",
      "|      0|       0|     0|        0|\n",
      "+-------+--------+------+---------+\n",
      "\n"
     ]
    }
   ],
   "source": [
    "#Checking for missing values\n",
    "from pyspark.sql.functions import col, sum\n",
    "\n",
    "ratings_df.select(*(sum(col(c).isNull().cast(\"int\")).alias(c) for c in ratings_df.columns)).show()"
   ]
  },
  {
   "cell_type": "code",
   "execution_count": 8,
   "id": "3858b53b",
   "metadata": {},
   "outputs": [
    {
     "data": {
      "text/plain": [
       "0"
      ]
     },
     "execution_count": 8,
     "metadata": {},
     "output_type": "execute_result"
    }
   ],
   "source": [
    "#Checking for duplicates\n",
    "duplicate_rows = ratings_df.count() - ratings_df.distinct().count()\n",
    "\n",
    "#Dropping duplicates if present\n",
    "if duplicate_rows > 0:\n",
    "    ratings_df = ratings_df.dropDuplicates()\n",
    "    \n",
    "duplicate_rows"
   ]
  },
  {
   "cell_type": "code",
   "execution_count": 9,
   "id": "0bb4767c",
   "metadata": {},
   "outputs": [
    {
     "name": "stdout",
     "output_type": "stream",
     "text": [
      "+-------+--------+------+---------+\n",
      "|user_id|movie_id|rating|timestamp|\n",
      "+-------+--------+------+---------+\n",
      "+-------+--------+------+---------+\n",
      "\n"
     ]
    }
   ],
   "source": [
    "#Checking for ratings outside the 1-5 range\n",
    "ratings_df.filter(~col(\"rating\").between(1, 5)).show()"
   ]
  },
  {
   "cell_type": "code",
   "execution_count": 10,
   "id": "2116092c",
   "metadata": {},
   "outputs": [
    {
     "data": {
      "text/plain": [
       "[Row(user_id='196', movie_id='242', rating='3', timestamp='881250949'),\n",
       " Row(user_id='186', movie_id='302', rating='3', timestamp='891717742'),\n",
       " Row(user_id='22', movie_id='377', rating='1', timestamp='878887116'),\n",
       " Row(user_id='244', movie_id='51', rating='2', timestamp='880606923'),\n",
       " Row(user_id='166', movie_id='346', rating='1', timestamp='886397596')]"
      ]
     },
     "execution_count": 10,
     "metadata": {},
     "output_type": "execute_result"
    }
   ],
   "source": [
    "ratings_df.head(5)"
   ]
  },
  {
   "cell_type": "code",
   "execution_count": 11,
   "id": "57d80d6f",
   "metadata": {},
   "outputs": [
    {
     "name": "stdout",
     "output_type": "stream",
     "text": [
      "+-------+------------------+------------------+\n",
      "|user_id|        avg_rating|total_movies_rated|\n",
      "+-------+------------------+------------------+\n",
      "|    296|4.1768707482993195|               147|\n",
      "|    467|3.6818181818181817|                44|\n",
      "|    691|           4.21875|                32|\n",
      "|    675|3.7058823529411766|                34|\n",
      "|    829|          3.546875|                64|\n",
      "|    125|3.4395604395604398|               182|\n",
      "|    451|2.7346938775510203|                98|\n",
      "|    800|              3.75|                28|\n",
      "|    853| 2.975609756097561|                41|\n",
      "|    666|3.6653061224489796|               245|\n",
      "|    870| 3.453531598513011|               269|\n",
      "|    919|3.4700460829493087|               217|\n",
      "|    926|               3.3|                20|\n",
      "|      7| 3.965260545905707|               403|\n",
      "|    124|               3.5|                24|\n",
      "|     51|3.5652173913043477|                23|\n",
      "|    447| 3.597122302158273|               139|\n",
      "|    591|3.6547619047619047|                84|\n",
      "|    307| 3.794642857142857|               112|\n",
      "|    475|               3.6|                20|\n",
      "+-------+------------------+------------------+\n",
      "only showing top 20 rows\n",
      "\n"
     ]
    }
   ],
   "source": [
    "#Calculating user metrics\n",
    "from pyspark.sql.functions import avg, count\n",
    "\n",
    "user_metrics = ratings_df.groupBy(\"user_id\").agg(\n",
    "    avg(\"rating\").alias(\"avg_rating\"),\n",
    "    count(\"movie_id\").alias(\"total_movies_rated\")\n",
    ")\n",
    "\n",
    "user_metrics.show()"
   ]
  },
  {
   "cell_type": "code",
   "execution_count": 12,
   "id": "a11e6b91",
   "metadata": {},
   "outputs": [
    {
     "name": "stdout",
     "output_type": "stream",
     "text": [
      "+--------+------------------+-----------+\n",
      "|movie_id|        avg_rating|num_ratings|\n",
      "+--------+------------------+-----------+\n",
      "|     408| 4.491071428571429|        112|\n",
      "|     318| 4.466442953020135|        298|\n",
      "|     169| 4.466101694915254|        118|\n",
      "|     483|  4.45679012345679|        243|\n",
      "|     114| 4.447761194029851|         67|\n",
      "|      64| 4.445229681978798|        283|\n",
      "|     603|4.3875598086124405|        209|\n",
      "|      12| 4.385767790262173|        267|\n",
      "|      50|4.3584905660377355|        583|\n",
      "|     178|             4.344|        125|\n",
      "|     513| 4.333333333333333|         72|\n",
      "|     134| 4.292929292929293|        198|\n",
      "|     427| 4.292237442922374|        219|\n",
      "|     357| 4.291666666666667|        264|\n",
      "|      98|  4.28974358974359|        390|\n",
      "|     480| 4.284916201117318|        179|\n",
      "|     127| 4.283292978208232|        413|\n",
      "|     285| 4.265432098765432|        162|\n",
      "|     272| 4.262626262626263|        198|\n",
      "|     657| 4.259541984732825|        131|\n",
      "+--------+------------------+-----------+\n",
      "only showing top 20 rows\n",
      "\n"
     ]
    }
   ],
   "source": [
    "#Setting the minimun number of ratings per movie for forther investigation\n",
    "min_ratings = 50\n",
    "\n",
    "#Aggregating ratings by movie\n",
    "movie_ratings = ratings_df.groupBy(\"movie_id\").agg(\n",
    "    avg(\"rating\").alias(\"avg_rating\"),\n",
    "    count(\"rating\").alias(\"num_ratings\")\n",
    ")\n",
    "\n",
    "#Filtering movies with ratings above the threshold and sorting them by average rating\n",
    "top_movies = movie_ratings.filter(movie_ratings.num_ratings > min_ratings).orderBy(\"avg_rating\", ascending=False)\n",
    "\n",
    "top_movies.show()"
   ]
  },
  {
   "cell_type": "code",
   "execution_count": 13,
   "id": "be6f6c33",
   "metadata": {},
   "outputs": [
    {
     "name": "stdout",
     "output_type": "stream",
     "text": [
      "+-------+------------------+------------------+\n",
      "|user_id|        avg_rating|total_movies_rated|\n",
      "+-------+------------------+------------------+\n",
      "|    405|1.8344640434192674|               737|\n",
      "|    655| 2.908029197080292|               685|\n",
      "|     13|  3.09748427672956|               636|\n",
      "|    450|3.8648148148148147|               540|\n",
      "|    276| 3.465250965250965|               518|\n",
      "|    416| 3.845841784989858|               493|\n",
      "|    537|2.8653061224489798|               490|\n",
      "|    303| 3.365702479338843|               484|\n",
      "|    234| 3.122916666666667|               480|\n",
      "|    393|3.3370535714285716|               448|\n",
      "|    181|1.4919540229885058|               435|\n",
      "|    279|3.2672811059907834|               434|\n",
      "|    429| 3.393719806763285|               414|\n",
      "|    846| 3.740740740740741|               405|\n",
      "|      7| 3.965260545905707|               403|\n",
      "|     94|            3.6575|               400|\n",
      "|    682| 3.137844611528822|               399|\n",
      "|    308|3.7581863979848866|               397|\n",
      "|    293|3.0309278350515463|               388|\n",
      "|     92|3.2448453608247423|               388|\n",
      "+-------+------------------+------------------+\n",
      "only showing top 20 rows\n",
      "\n"
     ]
    }
   ],
   "source": [
    "#Finding out who is the most active user..\n",
    "most_active_users = user_metrics.orderBy(\"total_movies_rated\", ascending=False)\n",
    "most_active_users.show()"
   ]
  },
  {
   "cell_type": "code",
   "execution_count": 14,
   "id": "97a16e43",
   "metadata": {},
   "outputs": [],
   "source": [
    "import matplotlib.pyplot as plt\n",
    "import seaborn as sns"
   ]
  },
  {
   "cell_type": "code",
   "execution_count": 15,
   "id": "b4050d9b",
   "metadata": {},
   "outputs": [
    {
     "data": {
      "image/png": "[encoded data removed]",
      "text/plain": [
       "<Figure size 640x480 with 1 Axes>"
      ]
     },
     "metadata": {},
     "output_type": "display_data"
    }
   ],
   "source": [
    "#Geting top 10 active users\n",
    "\n",
    "top_users_pd = most_active_users.limit(10).toPandas()\n",
    "\n",
    "#Let's take a look..\n",
    "sns.barplot(x='user_id', y='total_movies_rated', data=top_users_pd)\n",
    "plt.title(f'Top {10} Most Active Users')\n",
    "plt.xlabel('User ID')\n",
    "plt.ylabel('Number of Movies Rated')\n",
    "plt.show()"
   ]
  },
  {
   "cell_type": "code",
   "execution_count": 16,
   "id": "5996902a",
   "metadata": {},
   "outputs": [],
   "source": [
    "#Loading the movie data into a DataFrame\n",
    "movies_df = spark.read.csv(movie_data_path, sep=\"|\", header=False, encoding=\"ISO-8859-1\")\n",
    "movies_df = movies_df.withColumnRenamed(\"_c0\", \"movie_id\") \\\n",
    "                     .withColumnRenamed(\"_c1\", \"title\")"
   ]
  },
  {
   "cell_type": "code",
   "execution_count": 17,
   "id": "68233ab4",
   "metadata": {},
   "outputs": [
    {
     "name": "stdout",
     "output_type": "stream",
     "text": [
      "+--------+-----------------+------+\n",
      "|movie_id|            title|Horror|\n",
      "+--------+-----------------+------+\n",
      "|       1| Toy Story (1995)|     0|\n",
      "|       2| GoldenEye (1995)|     0|\n",
      "|       3|Four Rooms (1995)|     0|\n",
      "|       4|Get Shorty (1995)|     0|\n",
      "|       5|   Copycat (1995)|     0|\n",
      "+--------+-----------------+------+\n",
      "only showing top 5 rows\n",
      "\n"
     ]
    }
   ],
   "source": [
    "#Prepering the genre list based on MovieLens 100K documentation, which specifies the order and names of genres eg. _c5, _c6 atd..\n",
    "genre_columns = [\"Unknown\", \"Action\", \"Adventure\", \"Animation\", \"Children's\", \"Comedy\", \"Crime\", \"Documentary\", \"Drama\", \"Fantasy\", \n",
    "                 \"Film-Noir\", \"Horror\", \"Musical\", \"Mystery\", \"Romance\", \"Sci-Fi\", \"Thriller\", \"War\", \"Western\"]\n",
    "for idx, genre in enumerate(genre_columns, 5):\n",
    "    movies_df = movies_df.withColumnRenamed(f\"_c{idx}\", genre)\n",
    "\n",
    "#Displaing the first 5 rows..\n",
    "movies_df.select(\"movie_id\", \"title\", \"Horror\").show(5)"
   ]
  },
  {
   "cell_type": "code",
   "execution_count": 18,
   "id": "dc4151ea",
   "metadata": {},
   "outputs": [
    {
     "name": "stdout",
     "output_type": "stream",
     "text": [
      "+------+-----+\n",
      "|rating|count|\n",
      "+------+-----+\n",
      "|     1|  503|\n",
      "|     2|  814|\n",
      "|     3| 1513|\n",
      "|     4| 1610|\n",
      "|     5|  877|\n",
      "+------+-----+\n",
      "\n"
     ]
    }
   ],
   "source": [
    "# Joining the data\n",
    "joined_df = ratings_df.join(movies_df, on=\"movie_id\", how=\"inner\")\n",
    "\n",
    "#Only horror movies matter..\n",
    "horror_df = joined_df.filter(joined_df.Horror == 1)\n",
    "\n",
    "#Calculating ratings distribution for horror movies\n",
    "horror_rating_distribution = horror_df.groupBy(\"rating\").agg(\n",
    "    count(\"rating\").alias(\"count\")\n",
    ").orderBy(\"rating\")\n",
    "\n",
    "horror_rating_distribution.show()"
   ]
  },
  {
   "cell_type": "code",
   "execution_count": 21,
   "id": "93fd731e",
   "metadata": {
    "scrolled": true
   },
   "outputs": [
    {
     "data": {
      "image/png": "[encoded data removed]",
      "text/plain": [
       "<Figure size 640x480 with 1 Axes>"
      ]
     },
     "metadata": {},
     "output_type": "display_data"
    }
   ],
   "source": [
    "#What are the ratings distribiutions for horror movies?\n",
    "horror_ratings_pd = horror_rating_distribution.toPandas()\n",
    "\n",
    "#Ploting\n",
    "sns.barplot(x='rating', y='count', data=horror_ratings_pd)\n",
    "plt.title('Ratings Distribution for Horror Movies')\n",
    "plt.xlabel('Rating')\n",
    "plt.ylabel('Count')\n",
    "plt.show()"
   ]
  },
  {
   "cell_type": "markdown",
   "id": "5664a08d",
   "metadata": {},
   "source": [
    "Personal note: Horror movies are definitely receiving a lot of 1-star ratings, which suggests that this genre is quite underrated... :C"
   ]
  }
 ],
 "metadata": {
  "kernelspec": {
   "display_name": "Python 3 (ipykernel)",
   "language": "python",
   "name": "python3"
  },
  "language_info": {
   "codemirror_mode": {
    "name": "ipython",
    "version": 3
   },
   "file_extension": ".py",
   "mimetype": "text/x-python",
   "name": "python",
   "nbconvert_exporter": "python",
   "pygments_lexer": "ipython3",
   "version": "3.10.9"
  }
 },
 "nbformat": 4,
 "nbformat_minor": 5
}
